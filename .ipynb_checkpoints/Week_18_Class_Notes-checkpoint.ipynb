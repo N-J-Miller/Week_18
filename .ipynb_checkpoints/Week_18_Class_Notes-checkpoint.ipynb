{
 "cells": [
  {
   "cell_type": "markdown",
   "id": "a3982f4e",
   "metadata": {},
   "source": [
    "# Week 18 \n",
    "Neural Networks"
   ]
  },
  {
   "cell_type": "markdown",
   "id": "f5773c5c",
   "metadata": {},
   "source": [
    "#### Thought Exercise: What steps does your brain go thru when a deer runs out in front of your car.\n",
    "\n",
    "There's a deer. Oh, don't do it! She did it. No, sweetheart! *brake* *maybe swerve to shoulder* Expensive damage! Will the car behind me rear end me? Will they be ok? Check myself. Check other cars. "
   ]
  },
  {
   "cell_type": "code",
   "execution_count": null,
   "id": "b148bd93",
   "metadata": {},
   "outputs": [],
   "source": []
  }
 ],
 "metadata": {
  "kernelspec": {
   "display_name": "Python 3 (ipykernel)",
   "language": "python",
   "name": "python3"
  },
  "language_info": {
   "codemirror_mode": {
    "name": "ipython",
    "version": 3
   },
   "file_extension": ".py",
   "mimetype": "text/x-python",
   "name": "python",
   "nbconvert_exporter": "python",
   "pygments_lexer": "ipython3",
   "version": "3.9.7"
  }
 },
 "nbformat": 4,
 "nbformat_minor": 5
}
